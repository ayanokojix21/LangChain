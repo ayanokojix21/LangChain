{
  "nbformat": 4,
  "nbformat_minor": 0,
  "metadata": {
    "colab": {
      "provenance": []
    },
    "kernelspec": {
      "name": "python3",
      "display_name": "Python 3"
    },
    "language_info": {
      "name": "python"
    }
  },
  "cells": [
    {
      "cell_type": "code",
      "execution_count": 31,
      "metadata": {
        "id": "yXhSgOmjXXus"
      },
      "outputs": [],
      "source": [
        "import os\n",
        "os.environ['GROQ_API_KEY'] = 'YOUR_GROQ_API_KEY'\n",
        "os.environ['TAVILY_API_KEY'] = 'YOUR_TAVILY_API_KEY'"
      ]
    },
    {
      "cell_type": "code",
      "source": [
        "!pip install -q langchain-groq langchain-community langchain-core requests tavily-python"
      ],
      "metadata": {
        "id": "roNjehqzYKuN"
      },
      "execution_count": 36,
      "outputs": []
    },
    {
      "cell_type": "code",
      "source": [
        "from langchain_groq import ChatGroq\n",
        "from langchain_core.tools import tool\n",
        "import requests"
      ],
      "metadata": {
        "id": "coBoD4LrYZqV"
      },
      "execution_count": 33,
      "outputs": []
    },
    {
      "cell_type": "code",
      "source": [
        "# Importing a Tool for Web Search\n",
        "from langchain_community.tools.tavily_search import TavilySearchResults\n",
        "\n",
        "search_tool = TavilySearchResults()\n",
        "\n",
        "results = search_tool.invoke('Who is Rohit Sharma')"
      ],
      "metadata": {
        "id": "7SwDhbPwYqSk"
      },
      "execution_count": 51,
      "outputs": []
    },
    {
      "cell_type": "code",
      "source": [
        "results"
      ],
      "metadata": {
        "colab": {
          "base_uri": "https://localhost:8080/"
        },
        "id": "mqqvd0PwY7FB",
        "outputId": "f562326b-0090-4cfc-bd11-1cec8a5a2b7d"
      },
      "execution_count": 43,
      "outputs": [
        {
          "output_type": "execute_result",
          "data": {
            "text/plain": [
              "[{'title': 'Rohit Sharma | Life, Cricket, Career, Awards, & Facts | Britannica',\n",
              "  'url': 'https://www.britannica.com/biography/Rohit-Sharma',\n",
              "  'content': 'Rohit Sharma (born April 30, 1987, Bansod, India) is an Indian international cricketer and the current captain of the Indian cricket team in the One-Day International (ODI) format. Sharma was also the captain of India’s Twenty20 International team until he announced his retirement on June 29, 2024, after leading the Indian side to its T20I World Cup victory. He retired from Test cricket on May 7, 2025, ending a three-year stint as skipper. He captained the Mumbai Indians, a franchise team in [...] Sharma is the only player to have scored three double hundreds in ODI cricket; no other player has scored even two. He also holds the record for most international sixes across all formats, most sixes in World Cups, and the highest individual score in an ODI. He was a member of the Indian sides that won the 2007 T20I World Cup, the 2013 ICC (International Cricket Council) Champions Trophy, and the 2024 T20I World Cup.\\n\\n## Early life and career',\n",
              "  'score': 0.9466806},\n",
              " {'title': 'Rohit Sharma - Wikipedia',\n",
              "  'url': 'https://en.wikipedia.org/wiki/Rohit_Sharma',\n",
              "  'content': 'Rohit Gurunath Sharma (born 30 April 1987) is an Indian international cricketer and the captain \"Captain (cricket)\") of the Indian cricket team in ODI\\'s, and a former captain in Tests and T20Is. He is widely regarded as one of the greatest ODI opening batters \"Batting order (cricket)\") of all time. He is a right-handed batsman who plays for Mumbai Indians in Indian Premier League and for Mumbai in domestic cricket. Rohit led India to the victory at the 2024 Men\\'s T20 World Cup, after which he [...] |  |  |\\n| --- | --- |\\n| Sharma in 2024 | |\\n| Personal information | |\\n| Full name | Rohit Gurunath Sharma |\\n| Born | (1987-04-30) 30 April 1987 (age 38) Bansod, Nagpur, Maharashtra, India |\\n| Nickname |  Hitman   Shana  |\\n| Batting | Right-handed |\\n| Bowling | Right-arm off break |\\n| Role | Top-order batter#Top_order \"Batting order (cricket)\") |\\n| International information | |\\n| National side |  India (2007–present) |\\n| Test debut (cap 280) | 6 November 2013 v West Indies | [...] He plays for Mumbai Indians and Mumbai cricket team in Indian Premier League (IPL) and domestic cricket respectively. He formerly captained Mumbai Indians and the team has won five Indian Premier League titles in 2013, 2015, 2017, 2019 and 2020 under him, making him the most successful captain in IPL history, sharing this record with MS Dhoni. He is also one of two players who have played in every edition of the T20 World Cup, from the inaugural edition in 2007 to the latest one in 2024. He is',\n",
              "  'score': 0.9456058},\n",
              " {'title': 'Rohit Sharma: A journey from ODI records to awards and success',\n",
              "  'url': 'https://crictoday.com/cricket/series/rohit-sharma/',\n",
              "  'content': 'Rohit Sharma, known as Hitman, is an Indian cricketer who plays for Mumbai and the Indian team. He is the only batsman to hit three double centuries in ODI',\n",
              "  'score': 0.91175514},\n",
              " {'title': 'Rohit Sharma Biography, Age, Childhood, Career Info, Key Stats!',\n",
              "  'url': 'https://unstop.com/blog/rohit-sharma-biography',\n",
              "  'content': \"Rohit Sharma is a name that needs no introduction in the world of cricket. Born on April 30, 1987, in Nagpur, Maharashtra, India, Sharma is a right-handed top-order batsman and an occasional off-break bowler.\\n\\nBorn to Gurunath Sharma (who worked as a caretaker of a transport firm storehouse) and Purnima Sharma, Rohit was always passionate about cricket as a child. [...] \\u200bRohit Sharma, affectionately known as the 'Hitman' of Indian cricket, has captivated fans worldwide with his elegant stroke play and record-breaking performances. From his early days in Nagpur to leading the Indian cricket team, Rohit's journey is a testament to talent, perseverance, and an undying passion for the sport.\\u200b In this article, we go on a journey to explore Rohit Sharma’s biography, his accolades, his achievements, and more. See how he has etched his name among cricket's greats! [...] Rohit Sharma is a perfect blend of talent, hard work, and dedication. His journey from a young boy who loved cricket to a world-class famous batsman is an inspiration to many!\\n\\nRead about other Team India players including KL Rahul, Virat Kohli, Rishabh Pant, MS Dhoni, Hardik Pandya, and more!\\n\\nEdited by\\n\\nShivangi Vatsal\",\n",
              "  'score': 0.8914433},\n",
              " {'title': 'Rohit Sharma Height, Age, Wife, Children, Family, Biography',\n",
              "  'url': 'https://starsunfolded.com/rohit-sharma/',\n",
              "  'content': 'Rohit Sharma is an Indian cricketer who holds the record for maximum centuries in a World Cup. Check this page to read his biography- age, wife,',\n",
              "  'score': 0.8732259}]"
            ]
          },
          "metadata": {},
          "execution_count": 43
        }
      ]
    },
    {
      "cell_type": "code",
      "source": [
        "llm = ChatGroq(model='llama-3.3-70b-versatile')"
      ],
      "metadata": {
        "id": "Rt_I0lW5ZE-J"
      },
      "execution_count": 44,
      "outputs": []
    },
    {
      "cell_type": "code",
      "source": [
        "llm.invoke('Hi How are you')"
      ],
      "metadata": {
        "colab": {
          "base_uri": "https://localhost:8080/"
        },
        "id": "jtWdxZGQZiQa",
        "outputId": "f9cda802-0621-4c27-bdd6-3c04da398325"
      },
      "execution_count": 45,
      "outputs": [
        {
          "output_type": "execute_result",
          "data": {
            "text/plain": [
              "AIMessage(content=\"Hello. I'm just a language model, so I don't have feelings or emotions like humans do, but I'm functioning properly and ready to assist you. How about you? How's your day going so far? Is there anything I can help you with or would you like to chat?\", additional_kwargs={}, response_metadata={'token_usage': {'completion_tokens': 60, 'prompt_tokens': 39, 'total_tokens': 99, 'completion_time': 0.218181818, 'prompt_time': 0.001990026, 'queue_time': 0.218696754, 'total_time': 0.220171844}, 'model_name': 'llama-3.3-70b-versatile', 'system_fingerprint': 'fp_6507bcfb6f', 'finish_reason': 'stop', 'logprobs': None}, id='run--18902972-d0d2-423b-8736-77c4b12b420f-0', usage_metadata={'input_tokens': 39, 'output_tokens': 60, 'total_tokens': 99})"
            ]
          },
          "metadata": {},
          "execution_count": 45
        }
      ]
    },
    {
      "cell_type": "code",
      "source": [
        "# ReAct -> Reasoning + Action\n",
        "from langchain.agents import create_react_agent, AgentExecutor\n",
        "from langchain import hub"
      ],
      "metadata": {
        "id": "nWv5PCbUZki3"
      },
      "execution_count": 46,
      "outputs": []
    },
    {
      "cell_type": "code",
      "source": [
        "prompt = hub.pull('hwchase17/react') # Pulls standard ReAct Agent Prompt"
      ],
      "metadata": {
        "colab": {
          "base_uri": "https://localhost:8080/"
        },
        "id": "BF6SRizbaXXr",
        "outputId": "6fefd89d-65ee-45ed-cbcb-22212dd3ce65"
      },
      "execution_count": 47,
      "outputs": [
        {
          "output_type": "stream",
          "name": "stderr",
          "text": [
            "/usr/local/lib/python3.11/dist-packages/langsmith/client.py:272: LangSmithMissingAPIKeyWarning: API key must be provided when using hosted LangSmith API\n",
            "  warnings.warn(\n"
          ]
        }
      ]
    },
    {
      "cell_type": "code",
      "source": [
        "# Creating ReAct Agent manually with pulled prompt\n",
        "agent = create_react_agent(\n",
        "    llm=llm,\n",
        "    prompt=prompt,\n",
        "    tools=[search_tool]\n",
        ")"
      ],
      "metadata": {
        "id": "UHk0L6_iarG6"
      },
      "execution_count": 48,
      "outputs": []
    },
    {
      "cell_type": "code",
      "source": [
        "# Wrapping it with AgentExecutor\n",
        "agent_executor = AgentExecutor(\n",
        "    agent=agent,\n",
        "    tools=[search_tool],\n",
        "    verbose=True\n",
        ")"
      ],
      "metadata": {
        "id": "BLqaYpExdAef"
      },
      "execution_count": 49,
      "outputs": []
    },
    {
      "cell_type": "code",
      "source": [
        "response = agent_executor.invoke({'input' : 'Who is Rohit Sharma'})\n",
        "print(response)"
      ],
      "metadata": {
        "colab": {
          "base_uri": "https://localhost:8080/"
        },
        "id": "FMnPIIEmdkBC",
        "outputId": "02d563c2-21fc-4c34-9f5c-187957ff1cd0"
      },
      "execution_count": 50,
      "outputs": [
        {
          "output_type": "stream",
          "name": "stdout",
          "text": [
            "\n",
            "\n",
            "\u001b[1m> Entering new AgentExecutor chain...\u001b[0m\n",
            "\u001b[32;1m\u001b[1;3mTo find out who Rohit Sharma is, I should first search for information about him on a reliable search engine.\n",
            "\n",
            "Action: tavily_search_results_json\n",
            "Action Input: \"Rohit Sharma\"\u001b[0m\u001b[36;1m\u001b[1;3m[{'title': 'Rohit Sharma | Life, Cricket, Career, Awards, & Facts | Britannica', 'url': 'https://www.britannica.com/biography/Rohit-Sharma', 'content': 'Rohit Sharma (born April 30, 1987, Bansod, India) is an Indian international cricketer and the current captain of the Indian cricket team in the One-Day International (ODI) format. Sharma was also the captain of India’s Twenty20 International team until he announced his retirement on June 29, 2024, after leading the Indian side to its T20I World Cup victory. He retired from Test cricket on May 7, 2025, ending a three-year stint as skipper. He captained the Mumbai Indians, a franchise team in [...] Encyclopedia Britannica\\nEncyclopedia Britannica\\nRohit Sharma\\nRohit Sharma batting\\nCar with a pickle design in the Zagreb Red Bull Soapbox Race, Zagreb, Croatia, September 14, 2019. (games, races, sports)\\nNBA Lakers Celtics Finals Kevin Garnett shooting.\\ngolf. Competitive and cheating golfer wears golf gloves on golf club greens and prepares golf ball for lucky hole in one. Unsportsmanlike, sports, cheater\\nPanoramic view of moai, Ahu Tongariki, Easter Island (Rapa Nui), Chile [...] Sharma was born on April 30, 1987, in Bansod, Nagpur, in the state of Maharashtra, India. He first joined a cricket camp in 1999, when coach Dinesh Lad, a friend of his uncle’s, noticed his talent. Lad used to scout for talent in those days and was very impressed with the way Sharma bowled. Knowing that Sharma’s uncle would not be able to afford the fees for the school where Lad was coach, Lad convinced the school’s director to accept Sharma as a student and waive his entire fee so that he', 'score': 0.94401723}, {'title': 'Rohit Sharma - Wikipedia', 'url': 'https://en.wikipedia.org/wiki/Rohit_Sharma', 'content': 'Rohit Gurunath Sharma (born 30 April 1987) is an Indian international cricketer and the captain \"Captain (cricket)\") of the Indian cricket team in ODI\\'s, and a former captain in Tests and T20Is. He is widely regarded as one of the greatest ODI opening batters \"Batting order (cricket)\") of all time. He is a right-handed batsman who plays for Mumbai Indians in Indian Premier League and for Mumbai in domestic cricket. Rohit led India to the victory at the 2024 Men\\'s T20 World Cup, after which he [...] Rohit Sharma was born on 30 April 1987 into a Telugu-Marathi–speaking family in Bansod, Nagpur, Maharashtra, India. His mother, Purnima Sharma, is from Visakhapatnam, Andhra Pradesh. His father, Gurunath Sharma, worked as a caretaker of a transport firm storehouse. Sharma was raised by his grandparents and uncles in Borivali because of his father\\'s low income. He would visit his parents, who lived in a single-room house in Dombivli, only during weekends. He has a younger brother, Vishal Sharma. [...] |  |  |\\n| --- | --- |\\n| Sharma in 2024 | |\\n| Personal information | |\\n| Full name | Rohit Gurunath Sharma |\\n| Born | (1987-04-30) 30 April 1987 (age 38) Bansod, Nagpur, Maharashtra, India |\\n| Nickname |  Hitman   Shana  |\\n| Batting | Right-handed |\\n| Bowling | Right-arm off break |\\n| Role | Top-order batter#Top_order \"Batting order (cricket)\") |\\n| International information | |\\n| National side |  India (2007–present) |\\n| Test debut (cap 280) | 6 November 2013 v West Indies |', 'score': 0.9435197}, {'title': 'Rohit Sharma Biography - Facts, Childhood, Family Life & Achievements', 'url': 'https://www.thefamouspeople.com/profiles/rohit-sharma-13582.php', 'content': 'Rohit Sharma is an Indian international cricketer who currently serves as the Vice captain of the Indian ODI and T20 teams. Check out this biography to know about his childhood, family life, achievements and fun facts about him.', 'score': 0.8872928}, {'title': 'Rohit Sharma Profile: Age, Stats, Records, ICC Ranking, Career Info ...', 'url': 'https://www.mykhel.com/cricket/players/rohit-sharma-p3516/', 'content': \"Rohit Sharma is one of the most destructive batsmen India has ever produced in the white-ball format. Born on April 30 , 1987 in Nagpur, Rohit first represented India at the Under 19 Cricket World Cup in 2006. His achievements include winning the T20 World Cup in 2007 in South Africa and also the ICC Champions Trophy in 2013 in England. He has already created a legacy of his own in the limited-overs format and some of his feats put him in an entirely different league from the rest.The [...] Home»Cricket»Players» Rohit Sharma \\n\\n;);))\\n\\nRohit Sharma, India\\n===================\\n\\nRohit Sharma is an Indian cricketer who plays for the team India. Rohit Sharma was born on Apr 30, 1987; and as of 2025, he is 38 years old. Rohit Sharma is a batter from Nagpur and bats right handed. [...] Rohit Sharma has played 159 matches to date in his T20 career and has scored 4,231 runs, with an average of 32. Rohit Sharma has hit 383 fours and 205 sixes in his T20 career.In his most recent T20 match against South Africa at Kensington Oval, Bridgetown, Barbados, which took place in Jun 2024, Rohit Sharma contributed 9 runs off 5 balls to his team's total.\\n\\nHe holds the 3rd position in the ICC Odi batting rankings with a total of 756 points.\\n\\nImage 15\\n\\nRohit Sharma India\", 'score': 0.8497846}, {'title': 'Rohit Sharma ‣ Biography, Age, Height, Wife, Net worth, Son', 'url': 'https://jankarinepal.com/rohit-sharma-biography/', 'content': 'Rohit Sharma Biography, Age, Height, Net worth, Wife, Children, Education & More Rohit Sharma is an Indian cricketer known for his incredible batting skills and calm leadership. Born on April 30, 1987, in Nagpur, Maharashtra, he is nicknamed \"Hitman\" for his explosive hitting.', 'score': 0.80089486}]\u001b[0m\u001b[32;1m\u001b[1;3mBased on the search results, it appears that Rohit Sharma is a renowned Indian international cricketer who has made a significant impact in the sport. \n",
            "\n",
            "Action: None, as the search results have provided sufficient information to answer the question.\n",
            "Action Input: None\u001b[0mNone, as the search results have provided sufficient information to answer the question. is not a valid tool, try one of [tavily_search_results_json].\u001b[32;1m\u001b[1;3mI now know the final answer\n",
            "Final Answer: Rohit Sharma is a renowned Indian international cricketer who has made a significant impact in the sport, widely regarded as one of the greatest ODI opening batters of all time. He is the current captain of the Indian cricket team in the One-Day International (ODI) format and has led India to victory at the 2024 Men's T20 World Cup.\u001b[0m\n",
            "\n",
            "\u001b[1m> Finished chain.\u001b[0m\n",
            "{'input': 'Who is Rohit Sharma', 'output': \"Rohit Sharma is a renowned Indian international cricketer who has made a significant impact in the sport, widely regarded as one of the greatest ODI opening batters of all time. He is the current captain of the Indian cricket team in the One-Day International (ODI) format and has led India to victory at the 2024 Men's T20 World Cup.\"}\n"
          ]
        }
      ]
    },
    {
      "cell_type": "code",
      "source": [
        "response['output']"
      ],
      "metadata": {
        "colab": {
          "base_uri": "https://localhost:8080/",
          "height": 53
        },
        "id": "HSVzfO_ydzN7",
        "outputId": "5a4e3546-c002-4856-8484-650ca030f793"
      },
      "execution_count": 53,
      "outputs": [
        {
          "output_type": "execute_result",
          "data": {
            "text/plain": [
              "\"Rohit Sharma is a renowned Indian international cricketer who has made a significant impact in the sport, widely regarded as one of the greatest ODI opening batters of all time. He is the current captain of the Indian cricket team in the One-Day International (ODI) format and has led India to victory at the 2024 Men's T20 World Cup.\""
            ],
            "application/vnd.google.colaboratory.intrinsic+json": {
              "type": "string"
            }
          },
          "metadata": {},
          "execution_count": 53
        }
      ]
    },
    {
      "cell_type": "code",
      "source": [],
      "metadata": {
        "id": "UBQ7LigDx9GM"
      },
      "execution_count": null,
      "outputs": []
    }
  ]
}